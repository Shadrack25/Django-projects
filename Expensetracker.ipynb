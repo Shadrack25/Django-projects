{
  "nbformat": 4,
  "nbformat_minor": 0,
  "metadata": {
    "colab": {
      "name": "Untitled3.ipynb",
      "provenance": [],
      "collapsed_sections": [],
      "authorship_tag": "ABX9TyPFqrHYgZy4M+yzctoLzlw/",
      "include_colab_link": true
    },
    "kernelspec": {
      "name": "python3",
      "display_name": "Python 3"
    },
    "language_info": {
      "name": "python"
    }
  },
  "cells": [
    {
      "cell_type": "markdown",
      "metadata": {
        "id": "view-in-github",
        "colab_type": "text"
      },
      "source": [
        "<a href=\"https://colab.research.google.com/github/Shadrack25/Django-projects/blob/main/Expensetracker.ipynb\" target=\"_parent\"><img src=\"https://colab.research.google.com/assets/colab-badge.svg\" alt=\"Open In Colab\"/></a>"
      ]
    },
    {
      "cell_type": "code",
      "execution_count": null,
      "metadata": {
        "id": "2IkI7xw4CeO7"
      },
      "outputs": [],
      "source": [
        "#Description: A simple expense tracker"
      ]
    },
    {
      "cell_type": "code",
      "source": [
        "#Import the libraries\n",
        "import numpy as np\n",
        "import pandas as pd\n",
        "from datetime import date"
      ],
      "metadata": {
        "id": "vRUsrnxjCyBm"
      },
      "execution_count": 1,
      "outputs": []
    },
    {
      "cell_type": "code",
      "source": [
        "#Create Empty Lists\n",
        "GOODS_OR_SERVICES =[]\n",
        "PRICES = []\n",
        "DATES =[]\n",
        "EXPENSE_TYPE = []"
      ],
      "metadata": {
        "id": "biJONrsEDLg4"
      },
      "execution_count": 2,
      "outputs": []
    },
    {
      "cell_type": "code",
      "source": [
        "#Create a function to add the expenses to the lists and organize the data\n",
        "def add_expense(good_or_service, price, date, expense_type):\n",
        "  GOODS_OR_SERVICES.append(good_or_service)\n",
        "  PRICES.append(price)\n",
        "  DATES.append(date)\n",
        "  EXPENSE_TYPE.append(expense_type)"
      ],
      "metadata": {
        "id": "c7JsRTsADfHe"
      },
      "execution_count": 3,
      "outputs": []
    },
    {
      "cell_type": "code",
      "source": [
        "#Main program\n",
        "\n",
        "option = -1 #This will be the user option o choice or input\n",
        "while(option != 0):\n",
        "  #Create the option menu\n",
        "  print('Welcome to the simple expense tracker:')\n",
        "  print('1. Add Food Expense')\n",
        "  print('2. Add Household Expense')\n",
        "  print('3. Add Transportation cost')\n",
        "  print('4. Show and Save the Expense Report')\n",
        "  print('0. Exit')\n",
        "  option = int(input('Choose an option:'))\n",
        "\n",
        "  #Print a new line\n",
        "  print()\n",
        "\n",
        "#Check for the users choice or option or input\n",
        "if option == 0:\n",
        "  print('Existing the program')\n",
        "  break\n",
        "elif option == 1:\n",
        "  print('Adding Food')\n",
        "  expense_type = 'FOOD'\n",
        "elif option== 2:\n",
        "  print('Adding Household')\n",
        "  expense_type = 'HOUSEHOLD'\n",
        "elif option == 3:\n",
        "  print('Adding Transportation')\n",
        "  expense_type = 'TRANSPORTATION'\n",
        "elif option == 4:\n",
        "  #Create a data frame and add the expenses\n",
        "  expense_report = pd.DataFrame()\n",
        "  expense_report['GOODS_OR_SERVICES'] = GOODS_OR_SERVICES\n",
        "  expense_report['PRICES'] = PRICES\n",
        "  expense_report['DATES'] = DATES\n",
        "  expense_report['EXPENSE_TYPES'] = EXPENSE_TYPE\n",
        "  #Save the expense report\n",
        "  expense_report.to_csv('expenses.csv')\n",
        "  #Show the expense report\n",
        "  print(expense_report)\n",
        "else:\n",
        "  print('You chose an incorrect option. Please choose 0, 1, 2, 3, or 4')\n",
        "\n",
        "#Allow the user to enter the good or service and the price\n",
        "if option == 1 or option == 2 or option == 3:\n",
        "  good_or_service = input('Enter the good or service for the expense type' + expense_type + ':')\n",
        "  price = float(input('Enter the price of the good or service:'))\n",
        "  today = date.today()\n",
        "  add_expense(good_or_service, price, today, expense_type)\n",
        "\n",
        "  #Print a new line\n",
        "  print()"
      ],
      "metadata": {
        "colab": {
          "base_uri": "https://localhost:8080/",
          "height": 495
        },
        "id": "K-fAIjaNEP2s",
        "outputId": "9ae51d73-1bef-485e-9a61-735567806755"
      },
      "execution_count": 9,
      "outputs": [
        {
          "name": "stdout",
          "output_type": "stream",
          "text": [
            "Welcome to the simple expense tracker:\n",
            "1. Add Food Expense\n",
            "2. Add Household Expense\n",
            "3. Add Transportation cost\n",
            "4. Show and Save the Expense Report\n",
            "0. Exit\n",
            "Choose an option:1\n",
            "\n",
            "Welcome to the simple expense tracker:\n",
            "1. Add Food Expense\n",
            "2. Add Household Expense\n",
            "3. Add Transportation cost\n",
            "4. Show and Save the Expense Report\n",
            "0. Exit\n",
            "Choose an option:apple\n"
          ]
        },
        {
          "output_type": "error",
          "ename": "ValueError",
          "evalue": "ignored",
          "traceback": [
            "\u001b[0;31m---------------------------------------------------------------------------\u001b[0m",
            "\u001b[0;31mValueError\u001b[0m                                Traceback (most recent call last)",
            "\u001b[0;32m<ipython-input-9-5465dc0afad7>\u001b[0m in \u001b[0;36m<module>\u001b[0;34m()\u001b[0m\n\u001b[1;32m     10\u001b[0m   \u001b[0mprint\u001b[0m\u001b[0;34m(\u001b[0m\u001b[0;34m'4. Show and Save the Expense Report'\u001b[0m\u001b[0;34m)\u001b[0m\u001b[0;34m\u001b[0m\u001b[0;34m\u001b[0m\u001b[0m\n\u001b[1;32m     11\u001b[0m   \u001b[0mprint\u001b[0m\u001b[0;34m(\u001b[0m\u001b[0;34m'0. Exit'\u001b[0m\u001b[0;34m)\u001b[0m\u001b[0;34m\u001b[0m\u001b[0;34m\u001b[0m\u001b[0m\n\u001b[0;32m---> 12\u001b[0;31m   \u001b[0moption\u001b[0m \u001b[0;34m=\u001b[0m \u001b[0mint\u001b[0m\u001b[0;34m(\u001b[0m\u001b[0minput\u001b[0m\u001b[0;34m(\u001b[0m\u001b[0;34m'Choose an option:'\u001b[0m\u001b[0;34m)\u001b[0m\u001b[0;34m)\u001b[0m\u001b[0;34m\u001b[0m\u001b[0;34m\u001b[0m\u001b[0m\n\u001b[0m\u001b[1;32m     13\u001b[0m \u001b[0;34m\u001b[0m\u001b[0m\n\u001b[1;32m     14\u001b[0m   \u001b[0;31m#Print a new line\u001b[0m\u001b[0;34m\u001b[0m\u001b[0;34m\u001b[0m\u001b[0;34m\u001b[0m\u001b[0m\n",
            "\u001b[0;31mValueError\u001b[0m: invalid literal for int() with base 10: 'apple'"
          ]
        }
      ]
    }
  ]
}